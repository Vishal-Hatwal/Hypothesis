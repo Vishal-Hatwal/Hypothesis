{
 "cells": [
  {
   "cell_type": "code",
   "execution_count": 1,
   "id": "a6fcc68c",
   "metadata": {},
   "outputs": [],
   "source": [
    "import pandas as pd\n",
    "import scipy \n",
    "import numpy as np\n",
    "from scipy import stats"
   ]
  },
  {
   "cell_type": "code",
   "execution_count": 2,
   "id": "157e2188",
   "metadata": {},
   "outputs": [
    {
     "data": {
      "text/html": [
       "<div>\n",
       "<style scoped>\n",
       "    .dataframe tbody tr th:only-of-type {\n",
       "        vertical-align: middle;\n",
       "    }\n",
       "\n",
       "    .dataframe tbody tr th {\n",
       "        vertical-align: top;\n",
       "    }\n",
       "\n",
       "    .dataframe thead th {\n",
       "        text-align: right;\n",
       "    }\n",
       "</style>\n",
       "<table border=\"1\" class=\"dataframe\">\n",
       "  <thead>\n",
       "    <tr style=\"text-align: right;\">\n",
       "      <th></th>\n",
       "      <th>Laboratory 1</th>\n",
       "      <th>Laboratory 2</th>\n",
       "      <th>Laboratory 3</th>\n",
       "      <th>Laboratory 4</th>\n",
       "    </tr>\n",
       "  </thead>\n",
       "  <tbody>\n",
       "    <tr>\n",
       "      <th>0</th>\n",
       "      <td>185.35</td>\n",
       "      <td>165.53</td>\n",
       "      <td>176.70</td>\n",
       "      <td>166.13</td>\n",
       "    </tr>\n",
       "    <tr>\n",
       "      <th>1</th>\n",
       "      <td>170.49</td>\n",
       "      <td>185.91</td>\n",
       "      <td>198.45</td>\n",
       "      <td>160.79</td>\n",
       "    </tr>\n",
       "    <tr>\n",
       "      <th>2</th>\n",
       "      <td>192.77</td>\n",
       "      <td>194.92</td>\n",
       "      <td>201.23</td>\n",
       "      <td>185.18</td>\n",
       "    </tr>\n",
       "    <tr>\n",
       "      <th>3</th>\n",
       "      <td>177.33</td>\n",
       "      <td>183.00</td>\n",
       "      <td>199.61</td>\n",
       "      <td>176.42</td>\n",
       "    </tr>\n",
       "    <tr>\n",
       "      <th>4</th>\n",
       "      <td>193.41</td>\n",
       "      <td>169.57</td>\n",
       "      <td>204.63</td>\n",
       "      <td>152.60</td>\n",
       "    </tr>\n",
       "  </tbody>\n",
       "</table>\n",
       "</div>"
      ],
      "text/plain": [
       "   Laboratory 1  Laboratory 2  Laboratory 3  Laboratory 4\n",
       "0        185.35        165.53        176.70        166.13\n",
       "1        170.49        185.91        198.45        160.79\n",
       "2        192.77        194.92        201.23        185.18\n",
       "3        177.33        183.00        199.61        176.42\n",
       "4        193.41        169.57        204.63        152.60"
      ]
     },
     "execution_count": 2,
     "metadata": {},
     "output_type": "execute_result"
    }
   ],
   "source": [
    "data = pd.read_csv(\"LabTAT.csv\")\n",
    "data.head()"
   ]
  },
  {
   "cell_type": "code",
   "execution_count": 9,
   "id": "b6d5729f",
   "metadata": {},
   "outputs": [
    {
     "data": {
      "text/plain": [
       "array([[<AxesSubplot:title={'center':'Laboratory 1'}>,\n",
       "        <AxesSubplot:title={'center':'Laboratory 2'}>],\n",
       "       [<AxesSubplot:title={'center':'Laboratory 3'}>,\n",
       "        <AxesSubplot:title={'center':'Laboratory 4'}>]], dtype=object)"
      ]
     },
     "execution_count": 9,
     "metadata": {},
     "output_type": "execute_result"
    },
    {
     "data": {
      "image/png": "[encoded data removed]",
      "text/plain": [
       "<Figure size 432x288 with 4 Axes>"
      ]
     },
     "metadata": {
      "needs_background": "light"
     },
     "output_type": "display_data"
    }
   ],
   "source": [
    "data.hist()"
   ]
  },
  {
   "cell_type": "code",
   "execution_count": 3,
   "id": "5772f8fa",
   "metadata": {},
   "outputs": [
    {
     "data": {
      "text/plain": [
       "0      185.35\n",
       "1      170.49\n",
       "2      192.77\n",
       "3      177.33\n",
       "4      193.41\n",
       "        ...  \n",
       "115    178.49\n",
       "116    176.08\n",
       "117    202.48\n",
       "118    182.40\n",
       "119    182.09\n",
       "Name: Laboratory 1, Length: 120, dtype: float64"
      ]
     },
     "execution_count": 3,
     "metadata": {},
     "output_type": "execute_result"
    }
   ],
   "source": [
    "lab1 = pd.Series(data.iloc[:,0])\n",
    "lab1"
   ]
  },
  {
   "cell_type": "code",
   "execution_count": 4,
   "id": "b8c9a38f",
   "metadata": {},
   "outputs": [
    {
     "data": {
      "text/plain": [
       "0      165.53\n",
       "1      185.91\n",
       "2      194.92\n",
       "3      183.00\n",
       "4      169.57\n",
       "        ...  \n",
       "115    170.66\n",
       "116    183.98\n",
       "117    174.54\n",
       "118    197.18\n",
       "119    215.17\n",
       "Name: Laboratory 2, Length: 120, dtype: float64"
      ]
     },
     "execution_count": 4,
     "metadata": {},
     "output_type": "execute_result"
    }
   ],
   "source": [
    "lab2 = pd.Series(data.iloc[:,1])\n",
    "lab2"
   ]
  },
  {
   "cell_type": "code",
   "execution_count": 5,
   "id": "5ff691d2",
   "metadata": {},
   "outputs": [
    {
     "data": {
      "text/plain": [
       "0      176.70\n",
       "1      198.45\n",
       "2      201.23\n",
       "3      199.61\n",
       "4      204.63\n",
       "        ...  \n",
       "115    193.80\n",
       "116    215.25\n",
       "117    203.99\n",
       "118    194.52\n",
       "119    221.49\n",
       "Name: Laboratory 3, Length: 120, dtype: float64"
      ]
     },
     "execution_count": 5,
     "metadata": {},
     "output_type": "execute_result"
    }
   ],
   "source": [
    "lab3 = pd.Series(data.iloc[:,2])\n",
    "lab3"
   ]
  },
  {
   "cell_type": "code",
   "execution_count": 6,
   "id": "03024971",
   "metadata": {},
   "outputs": [
    {
     "data": {
      "text/plain": [
       "0      166.13\n",
       "1      160.79\n",
       "2      185.18\n",
       "3      176.42\n",
       "4      152.60\n",
       "        ...  \n",
       "115    172.68\n",
       "116    177.64\n",
       "117    170.27\n",
       "118    150.87\n",
       "119    162.21\n",
       "Name: Laboratory 4, Length: 120, dtype: float64"
      ]
     },
     "execution_count": 6,
     "metadata": {},
     "output_type": "execute_result"
    }
   ],
   "source": [
    "lab4 = pd.Series(data.iloc[:,3])\n",
    "lab4"
   ]
  },
  {
   "cell_type": "code",
   "execution_count": 7,
   "id": "df60104f",
   "metadata": {},
   "outputs": [],
   "source": [
    "p_value = stats.f_oneway(lab1,lab2,lab3,lab4)"
   ]
  },
  {
   "cell_type": "code",
   "execution_count": 8,
   "id": "f87e92a9",
   "metadata": {},
   "outputs": [
    {
     "data": {
      "text/plain": [
       "F_onewayResult(statistic=118.70421654401437, pvalue=2.1156708949992414e-57)"
      ]
     },
     "execution_count": 8,
     "metadata": {},
     "output_type": "execute_result"
    }
   ],
   "source": [
    "p_value"
   ]
  },
  {
   "cell_type": "markdown",
   "id": "794be825",
   "metadata": {},
   "source": [
    "# inferences"
   ]
  },
  {
   "cell_type": "code",
   "execution_count": null,
   "id": "68721b49",
   "metadata": {},
   "outputs": [],
   "source": [
    "Business Problem = Whether there is any difference in average TAT of reports\n",
    "Ho : No differences\n",
    "Ha : There is difference\n",
    "Test : ANOVA \n",
    "Result : p value = 2.1156708949992414e-57, which means p value < 0.05\n",
    "         so  choose alternative hypothesis\n",
    "Conclusion : There is differences "
   ]
  }
 ],
 "metadata": {
  "kernelspec": {
   "display_name": "Python 3",
   "language": "python",
   "name": "python3"
  },
  "language_info": {
   "codemirror_mode": {
    "name": "ipython",
    "version": 3
   },
   "file_extension": ".py",
   "mimetype": "text/x-python",
   "name": "python",
   "nbconvert_exporter": "python",
   "pygments_lexer": "ipython3",
   "version": "3.8.8"
  }
 },
 "nbformat": 4,
 "nbformat_minor": 5
}
